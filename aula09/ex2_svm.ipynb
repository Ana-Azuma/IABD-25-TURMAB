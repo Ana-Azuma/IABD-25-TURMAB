{
 "cells": [
  {
   "cell_type": "code",
   "execution_count": 1,
   "id": "5347832a",
   "metadata": {},
   "outputs": [],
   "source": [
    "import pandas as pd\n",
    "from sklearn.model_selection import train_test_split\n",
    "from sklearn.svm import SVC\n",
    "from sklearn.preprocessing import LabelEncoder\n",
    "from sklearn.metrics import accuracy_score, classification_report, confusion_matrix\n",
    "import seaborn as sns\n",
    "import matplotlib.pyplot as plt"
   ]
  },
  {
   "cell_type": "code",
   "execution_count": 2,
   "id": "13cfa2f3",
   "metadata": {},
   "outputs": [
    {
     "data": {
      "text/html": [
       "<div>\n",
       "<style scoped>\n",
       "    .dataframe tbody tr th:only-of-type {\n",
       "        vertical-align: middle;\n",
       "    }\n",
       "\n",
       "    .dataframe tbody tr th {\n",
       "        vertical-align: top;\n",
       "    }\n",
       "\n",
       "    .dataframe thead th {\n",
       "        text-align: right;\n",
       "    }\n",
       "</style>\n",
       "<table border=\"1\" class=\"dataframe\">\n",
       "  <thead>\n",
       "    <tr style=\"text-align: right;\">\n",
       "      <th></th>\n",
       "      <th>pH</th>\n",
       "      <th>Concentracao</th>\n",
       "      <th>Cheiro</th>\n",
       "      <th>Classe</th>\n",
       "    </tr>\n",
       "  </thead>\n",
       "  <tbody>\n",
       "    <tr>\n",
       "      <th>0</th>\n",
       "      <td>3.0</td>\n",
       "      <td>Concentrada</td>\n",
       "      <td>Com Cheiro</td>\n",
       "      <td>Ácida</td>\n",
       "    </tr>\n",
       "    <tr>\n",
       "      <th>1</th>\n",
       "      <td>5.5</td>\n",
       "      <td>Diluída</td>\n",
       "      <td>Sem Cheiro</td>\n",
       "      <td>Básica</td>\n",
       "    </tr>\n",
       "    <tr>\n",
       "      <th>2</th>\n",
       "      <td>2.5</td>\n",
       "      <td>Concentrada</td>\n",
       "      <td>Com Cheiro</td>\n",
       "      <td>Ácida</td>\n",
       "    </tr>\n",
       "    <tr>\n",
       "      <th>3</th>\n",
       "      <td>7.0</td>\n",
       "      <td>Diluída</td>\n",
       "      <td>Sem Cheiro</td>\n",
       "      <td>Básica</td>\n",
       "    </tr>\n",
       "    <tr>\n",
       "      <th>4</th>\n",
       "      <td>4.0</td>\n",
       "      <td>Concentrada</td>\n",
       "      <td>Com Cheiro</td>\n",
       "      <td>Ácida</td>\n",
       "    </tr>\n",
       "    <tr>\n",
       "      <th>5</th>\n",
       "      <td>6.5</td>\n",
       "      <td>Diluída</td>\n",
       "      <td>Sem Cheiro</td>\n",
       "      <td>Básica</td>\n",
       "    </tr>\n",
       "    <tr>\n",
       "      <th>6</th>\n",
       "      <td>3.5</td>\n",
       "      <td>Concentrada</td>\n",
       "      <td>Com Cheiro</td>\n",
       "      <td>Ácida</td>\n",
       "    </tr>\n",
       "    <tr>\n",
       "      <th>7</th>\n",
       "      <td>6.0</td>\n",
       "      <td>Diluída</td>\n",
       "      <td>Sem Cheiro</td>\n",
       "      <td>Básica</td>\n",
       "    </tr>\n",
       "    <tr>\n",
       "      <th>8</th>\n",
       "      <td>2.0</td>\n",
       "      <td>Concentrada</td>\n",
       "      <td>Com Cheiro</td>\n",
       "      <td>Ácida</td>\n",
       "    </tr>\n",
       "    <tr>\n",
       "      <th>9</th>\n",
       "      <td>7.5</td>\n",
       "      <td>Diluída</td>\n",
       "      <td>Sem Cheiro</td>\n",
       "      <td>Básica</td>\n",
       "    </tr>\n",
       "  </tbody>\n",
       "</table>\n",
       "</div>"
      ],
      "text/plain": [
       "    pH Concentracao      Cheiro  Classe\n",
       "0  3.0  Concentrada  Com Cheiro   Ácida\n",
       "1  5.5      Diluída  Sem Cheiro  Básica\n",
       "2  2.5  Concentrada  Com Cheiro   Ácida\n",
       "3  7.0      Diluída  Sem Cheiro  Básica\n",
       "4  4.0  Concentrada  Com Cheiro   Ácida\n",
       "5  6.5      Diluída  Sem Cheiro  Básica\n",
       "6  3.5  Concentrada  Com Cheiro   Ácida\n",
       "7  6.0      Diluída  Sem Cheiro  Básica\n",
       "8  2.0  Concentrada  Com Cheiro   Ácida\n",
       "9  7.5      Diluída  Sem Cheiro  Básica"
      ]
     },
     "execution_count": 2,
     "metadata": {},
     "output_type": "execute_result"
    }
   ],
   "source": [
    "# Criando o conjunto de dados\n",
    "data = pd.DataFrame({\n",
    "    'pH': [3.0, 5.5, 2.5, 7.0, 4.0, 6.5, 3.5, 6.0, 2.0, 7.5, 4.5, 5.0, 2.8, 8.0],\n",
    "    'Concentracao': ['Concentrada', 'Diluída', 'Concentrada', 'Diluída', \n",
    "                     'Concentrada', 'Diluída', 'Concentrada', 'Diluída',\n",
    "                     'Concentrada', 'Diluída', 'Concentrada', 'Diluída', \n",
    "                     'Concentrada', 'Diluída'],\n",
    "    'Cheiro': ['Com Cheiro', 'Sem Cheiro', 'Com Cheiro', 'Sem Cheiro',\n",
    "               'Com Cheiro', 'Sem Cheiro', 'Com Cheiro', 'Sem Cheiro',\n",
    "               'Com Cheiro', 'Sem Cheiro', 'Com Cheiro', 'Sem Cheiro',\n",
    "               'Com Cheiro', 'Sem Cheiro'],\n",
    "    'Classe': ['Ácida', 'Básica', 'Ácida', 'Básica', 'Ácida', 'Básica', \n",
    "               'Ácida', 'Básica', 'Ácida', 'Básica', 'Ácida', 'Básica', \n",
    "               'Ácida', 'Básica']\n",
    "})\n",
    "\n",
    "data.head(10)"
   ]
  },
  {
   "cell_type": "code",
   "execution_count": 3,
   "id": "aa3bab61",
   "metadata": {},
   "outputs": [
    {
     "name": "stdout",
     "output_type": "stream",
     "text": [
      "  Concentracao  Concentracao_encoded      Cheiro  Cheiro_encoded\n",
      "0  Concentrada                     0  Com Cheiro               0\n",
      "1      Diluída                     1  Sem Cheiro               1\n",
      "2  Concentrada                     0  Com Cheiro               0\n",
      "3      Diluída                     1  Sem Cheiro               1\n",
      "4  Concentrada                     0  Com Cheiro               0\n"
     ]
    }
   ],
   "source": [
    "# Convertendo variáveis categóricas em numéricas\n",
    "le_concentracao = LabelEncoder()\n",
    "le_cheiro = LabelEncoder()\n",
    "\n",
    "data['Concentracao_encoded'] = le_concentracao.fit_transform(data['Concentracao'])\n",
    "data['Cheiro_encoded'] = le_cheiro.fit_transform(data['Cheiro'])\n",
    "\n",
    "print(data[['Concentracao', 'Concentracao_encoded', 'Cheiro', 'Cheiro_encoded']].head())"
   ]
  },
  {
   "cell_type": "code",
   "execution_count": 4,
   "id": "696bb11b",
   "metadata": {},
   "outputs": [
    {
     "name": "stdout",
     "output_type": "stream",
     "text": [
      "Shape de X: (14, 3)\n",
      "Shape de y: (14,)\n"
     ]
    }
   ],
   "source": [
    "# Separando características (X) e rótulo (y)\n",
    "X = data[['pH', 'Concentracao_encoded', 'Cheiro_encoded']]\n",
    "y = data['Classe']\n",
    "\n",
    "print(\"Shape de X:\", X.shape)\n",
    "print(\"Shape de y:\", y.shape)"
   ]
  },
  {
   "cell_type": "code",
   "execution_count": 5,
   "id": "c5caa3ce",
   "metadata": {},
   "outputs": [
    {
     "name": "stdout",
     "output_type": "stream",
     "text": [
      "Tamanho do conjunto de treino: 9\n",
      "Tamanho do conjunto de teste: 5\n"
     ]
    }
   ],
   "source": [
    "# Dividindo em treino e teste (70% treino, 30% teste)\n",
    "X_train, X_test, y_train, y_test = train_test_split(X, y, test_size=0.3, random_state=42)\n",
    "\n",
    "print(f\"Tamanho do conjunto de treino: {len(X_train)}\")\n",
    "print(f\"Tamanho do conjunto de teste: {len(X_test)}\")"
   ]
  },
  {
   "cell_type": "code",
   "execution_count": 6,
   "id": "ec392e75",
   "metadata": {},
   "outputs": [
    {
     "name": "stdout",
     "output_type": "stream",
     "text": [
      "Modelo treinado com sucesso!\n"
     ]
    }
   ],
   "source": [
    "# Treinando o modelo SVM\n",
    "svm_model = SVC(kernel='linear', random_state=42)\n",
    "svm_model.fit(X_train, y_train)\n",
    "\n",
    "print(\"Modelo treinado com sucesso!\")"
   ]
  },
  {
   "cell_type": "code",
   "execution_count": 7,
   "id": "a0b91a9d",
   "metadata": {},
   "outputs": [
    {
     "name": "stdout",
     "output_type": "stream",
     "text": [
      "Acurácia do Modelo SVM: 1.00\n",
      "\n",
      "Relatório de Classificação:\n",
      "              precision    recall  f1-score   support\n",
      "\n",
      "      Básica       1.00      1.00      1.00         3\n",
      "       Ácida       1.00      1.00      1.00         2\n",
      "\n",
      "    accuracy                           1.00         5\n",
      "   macro avg       1.00      1.00      1.00         5\n",
      "weighted avg       1.00      1.00      1.00         5\n",
      "\n"
     ]
    }
   ],
   "source": [
    "# Fazendo previsões\n",
    "y_pred = svm_model.predict(X_test)\n",
    "\n",
    "# Avaliando o modelo\n",
    "accuracy = accuracy_score(y_test, y_pred)\n",
    "print(f'Acurácia do Modelo SVM: {accuracy:.2f}')\n",
    "print('\\nRelatório de Classificação:')\n",
    "print(classification_report(y_test, y_pred))"
   ]
  },
  {
   "cell_type": "code",
   "execution_count": 8,
   "id": "92c2b195",
   "metadata": {},
   "outputs": [
    {
     "name": "stdout",
     "output_type": "stream",
     "text": [
      "Matriz de Confusão:\n",
      "[[3 0]\n",
      " [0 2]]\n"
     ]
    },
    {
     "data": {
      "image/png": "[encoded data removed]",
      "text/plain": [
       "<Figure size 800x600 with 2 Axes>"
      ]
     },
     "metadata": {},
     "output_type": "display_data"
    }
   ],
   "source": [
    "# Matriz de Confusão\n",
    "cm = confusion_matrix(y_test, y_pred)\n",
    "print('Matriz de Confusão:')\n",
    "print(cm)\n",
    "\n",
    "# Plotando a matriz de confusão\n",
    "plt.figure(figsize=(8, 6))\n",
    "sns.heatmap(cm, annot=True, fmt='d', cmap='Greens', \n",
    "            xticklabels=['Ácida', 'Básica'], \n",
    "            yticklabels=['Ácida', 'Básica'])\n",
    "plt.xlabel('Previsão')\n",
    "plt.ylabel('Verdadeiro')\n",
    "plt.title('Matriz de Confusão - Classificação de Substâncias')\n",
    "plt.show()"
   ]
  }
 ],
 "metadata": {
  "kernelspec": {
   "display_name": "Python 3",
   "language": "python",
   "name": "python3"
  },
  "language_info": {
   "codemirror_mode": {
    "name": "ipython",
    "version": 3
   },
   "file_extension": ".py",
   "mimetype": "text/x-python",
   "name": "python",
   "nbconvert_exporter": "python",
   "pygments_lexer": "ipython3",
   "version": "3.13.1"
  }
 },
 "nbformat": 4,
 "nbformat_minor": 5
}
