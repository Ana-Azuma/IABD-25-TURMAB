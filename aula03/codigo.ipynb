{
 "cells": [
  {
   "cell_type": "code",
   "execution_count": null,
   "id": "4324b4ed",
   "metadata": {},
   "outputs": [],
   "source": [
    "# instalação da biblioteca matplotlib\n",
    "!pip install matplotlib"
   ]
  },
  {
   "cell_type": "code",
   "execution_count": 3,
   "id": "eb8d7761",
   "metadata": {},
   "outputs": [
    {
     "name": "stderr",
     "output_type": "stream",
     "text": [
      "\n",
      "[notice] A new release of pip is available: 24.3.1 -> 25.2\n",
      "[notice] To update, run: python.exe -m pip install --upgrade pip\n"
     ]
    }
   ],
   "source": [
    "# instalação da biblioteca numpy (-q omite as saídas das células)\n",
    "!pip install -q numpy"
   ]
  },
  {
   "cell_type": "code",
   "execution_count": 5,
   "id": "15cde06e",
   "metadata": {},
   "outputs": [],
   "source": [
    "import matplotlib.pyplot as plt # importa a biblioteca matplotlib\n",
    "import numpy as np # importa a biblioteca numpy"
   ]
  }
 ],
 "metadata": {
  "kernelspec": {
   "display_name": "Python 3",
   "language": "python",
   "name": "python3"
  },
  "language_info": {
   "codemirror_mode": {
    "name": "ipython",
    "version": 3
   },
   "file_extension": ".py",
   "mimetype": "text/x-python",
   "name": "python",
   "nbconvert_exporter": "python",
   "pygments_lexer": "ipython3",
   "version": "3.13.1"
  }
 },
 "nbformat": 4,
 "nbformat_minor": 5
}
