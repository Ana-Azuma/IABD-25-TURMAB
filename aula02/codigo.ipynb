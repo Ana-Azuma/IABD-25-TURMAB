{
 "cells": [
  {
   "cell_type": "code",
   "execution_count": null,
   "id": "3e35b321",
   "metadata": {},
   "outputs": [],
   "source": [
    "#instala a biblioteca pandas\n",
    "!pip install pandas"
   ]
  },
  {
   "cell_type": "code",
   "execution_count": 5,
   "id": "826301a5",
   "metadata": {},
   "outputs": [],
   "source": [
    "#importar biblioteca pandas\n",
    "import pandas as pd "
   ]
  },
  {
   "cell_type": "code",
   "execution_count": null,
   "id": "1b9ef943",
   "metadata": {},
   "outputs": [],
   "source": [
    "#criando um dicionario\n",
    "Dicionario = {\n",
    "    'A' : [1,2,3],\n",
    "    'B' : [-3,-2,-1],\n",
    "    'C' : [0,10,20]\n",
    "}\n",
    "Label = ['1ª Linha', '2ª Linha',  '3ª Linha']\n",
    "Dataframe_01=pd.DataFrame(Dicionario, index=Label)\n",
    "print(Dataframe_01)"
   ]
  },
  {
   "cell_type": "code",
   "execution_count": null,
   "id": "a0b63073",
   "metadata": {},
   "outputs": [],
   "source": [
    "#Exibindo as colunas A e B\n",
    "Dataframe_01[['A','B']]"
   ]
  },
  {
   "cell_type": "code",
   "execution_count": 8,
   "id": "f27e0be0",
   "metadata": {},
   "outputs": [],
   "source": [
    "#Criando uma coluna no dataframe\n",
    "Dataframe_01['Nova coluna'] = Dataframe_01['A']*Dataframe_01['B']"
   ]
  },
  {
   "cell_type": "code",
   "execution_count": null,
   "id": "6c41f3d6",
   "metadata": {},
   "outputs": [],
   "source": [
    "Dataframe_01 #Exibe o dataframe"
   ]
  }
 ],
 "metadata": {
  "kernelspec": {
   "display_name": "Python 3",
   "language": "python",
   "name": "python3"
  },
  "language_info": {
   "codemirror_mode": {
    "name": "ipython",
    "version": 3
   },
   "file_extension": ".py",
   "mimetype": "text/x-python",
   "name": "python",
   "nbconvert_exporter": "python",
   "pygments_lexer": "ipython3",
   "version": "3.13.1"
  }
 },
 "nbformat": 4,
 "nbformat_minor": 5
}
