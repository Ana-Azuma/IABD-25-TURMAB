{
 "cells": [
  {
   "cell_type": "code",
   "execution_count": null,
   "id": "3e35b321",
   "metadata": {},
   "outputs": [],
   "source": [
    "#instala a biblioteca pandas\n",
    "!pip install pandas"
   ]
  },
  {
   "cell_type": "code",
   "execution_count": 5,
   "id": "826301a5",
   "metadata": {},
   "outputs": [],
   "source": [
    "#importar biblioteca pandas\n",
    "import pandas as pd "
   ]
  },
  {
   "cell_type": "code",
   "execution_count": null,
   "id": "1b9ef943",
   "metadata": {},
   "outputs": [],
   "source": [
    "#criando um dicionario\n",
    "Dicionario = {\n",
    "    'A' : [1,2,3],\n",
    "    'B' : [-3,-2,-1],\n",
    "    'C' : [0,10,20]\n",
    "}\n",
    "Label = ['1ª Linha', '2ª Linha',  '3ª Linha']\n",
    "Dataframe_01=pd.DataFrame(Dicionario, index=Label)\n",
    "print(Dataframe_01)"
   ]
  },
  {
   "cell_type": "code",
   "execution_count": null,
   "id": "a0b63073",
   "metadata": {},
   "outputs": [],
   "source": [
    "#Exibindo as colunas A e B\n",
    "Dataframe_01[['A','B']]"
   ]
  },
  {
   "cell_type": "code",
   "execution_count": 8,
   "id": "f27e0be0",
   "metadata": {},
   "outputs": [],
   "source": [
    "#Criando uma coluna no dataframe\n",
    "Dataframe_01['Nova coluna'] = Dataframe_01['A']*Dataframe_01['B']"
   ]
  },
  {
   "cell_type": "code",
   "execution_count": null,
   "id": "6c41f3d6",
   "metadata": {},
   "outputs": [],
   "source": [
    "Dataframe_01 #Exibe o dataframe"
   ]
  },
  {
   "cell_type": "code",
   "execution_count": 18,
   "id": "ef4c2754",
   "metadata": {},
   "outputs": [
    {
     "name": "stdout",
     "output_type": "stream",
     "text": [
      "6\n"
     ]
    },
    {
     "data": {
      "text/html": [
       "<div>\n",
       "<style scoped>\n",
       "    .dataframe tbody tr th:only-of-type {\n",
       "        vertical-align: middle;\n",
       "    }\n",
       "\n",
       "    .dataframe tbody tr th {\n",
       "        vertical-align: top;\n",
       "    }\n",
       "\n",
       "    .dataframe thead th {\n",
       "        text-align: right;\n",
       "    }\n",
       "</style>\n",
       "<table border=\"1\" class=\"dataframe\">\n",
       "  <thead>\n",
       "    <tr style=\"text-align: right;\">\n",
       "      <th></th>\n",
       "      <th>A</th>\n",
       "      <th>B</th>\n",
       "      <th>C</th>\n",
       "    </tr>\n",
       "  </thead>\n",
       "  <tbody>\n",
       "    <tr>\n",
       "      <th>1ª Linha</th>\n",
       "      <td>1</td>\n",
       "      <td>-3</td>\n",
       "      <td>0</td>\n",
       "    </tr>\n",
       "    <tr>\n",
       "      <th>2ª Linha</th>\n",
       "      <td>2</td>\n",
       "      <td>-2</td>\n",
       "      <td>10</td>\n",
       "    </tr>\n",
       "    <tr>\n",
       "      <th>3ª Linha</th>\n",
       "      <td>3</td>\n",
       "      <td>-1</td>\n",
       "      <td>20</td>\n",
       "    </tr>\n",
       "  </tbody>\n",
       "</table>\n",
       "</div>"
      ],
      "text/plain": [
       "          A  B   C\n",
       "1ª Linha  1 -3   0\n",
       "2ª Linha  2 -2  10\n",
       "3ª Linha  3 -1  20"
      ]
     },
     "execution_count": 18,
     "metadata": {},
     "output_type": "execute_result"
    }
   ],
   "source": [
    "# Exibindo valores na saída da célula do notebook\n",
    "a = 6 \n",
    "print(a)\n",
    "Dataframe_01"
   ]
  },
  {
   "cell_type": "code",
   "execution_count": null,
   "id": "d715d782",
   "metadata": {},
   "outputs": [],
   "source": [
    "#Excluindo uma coluna do Dataframe\n",
    "#Drop exclui uma linha ou coluna do Dataframe\n",
    "Dataframe_01.drop('Nova coluna',axis=1) #exclui a nova coluna do dataframe 1"
   ]
  },
  {
   "cell_type": "code",
   "execution_count": 13,
   "id": "2efed355",
   "metadata": {},
   "outputs": [],
   "source": [
    "#Excluindo uma coluna definitivamente do Dataframe\n",
    "Dataframe_01.drop('Nova coluna',axis=1,inplace=True)"
   ]
  },
  {
   "cell_type": "code",
   "execution_count": null,
   "id": "e096fb86",
   "metadata": {},
   "outputs": [],
   "source": [
    "#Localizando uma linha do Dataframe utilizando o comando Loc\n",
    "Dataframe_01.loc['1ª Linha']"
   ]
  },
  {
   "cell_type": "code",
   "execution_count": null,
   "id": "92ef0970",
   "metadata": {},
   "outputs": [],
   "source": [
    "Dataframe_01.loc['2ª Linha']"
   ]
  },
  {
   "cell_type": "code",
   "execution_count": null,
   "id": "671aa5e0",
   "metadata": {},
   "outputs": [],
   "source": [
    "Dataframe_01.loc['3ª Linha']"
   ]
  },
  {
   "cell_type": "code",
   "execution_count": null,
   "id": "b7dbc8be",
   "metadata": {},
   "outputs": [],
   "source": [
    "#Localizando diversas linhas e colunas\n",
    "Dataframe_01.loc[['1ª Linha','2ª Linha','3ª Linha'],['A','C']]"
   ]
  },
  {
   "cell_type": "code",
   "execution_count": 28,
   "id": "f2fe335f",
   "metadata": {},
   "outputs": [
    {
     "data": {
      "text/html": [
       "<div>\n",
       "<style scoped>\n",
       "    .dataframe tbody tr th:only-of-type {\n",
       "        vertical-align: middle;\n",
       "    }\n",
       "\n",
       "    .dataframe tbody tr th {\n",
       "        vertical-align: top;\n",
       "    }\n",
       "\n",
       "    .dataframe thead th {\n",
       "        text-align: right;\n",
       "    }\n",
       "</style>\n",
       "<table border=\"1\" class=\"dataframe\">\n",
       "  <thead>\n",
       "    <tr style=\"text-align: right;\">\n",
       "      <th></th>\n",
       "      <th>B</th>\n",
       "      <th>C</th>\n",
       "    </tr>\n",
       "  </thead>\n",
       "  <tbody>\n",
       "    <tr>\n",
       "      <th>3ª Linha</th>\n",
       "      <td>-1</td>\n",
       "      <td>20</td>\n",
       "    </tr>\n",
       "  </tbody>\n",
       "</table>\n",
       "</div>"
      ],
      "text/plain": [
       "          B   C\n",
       "3ª Linha -1  20"
      ]
     },
     "execution_count": 28,
     "metadata": {},
     "output_type": "execute_result"
    }
   ],
   "source": [
    "#Localizando a linha e a coluna pelo indice\n",
    "Dataframe_01.iloc[2:3,1:] #Linha, coluna"
   ]
  },
  {
   "cell_type": "code",
   "execution_count": null,
   "id": "5003f38b",
   "metadata": {},
   "outputs": [],
   "source": [
    "Dataframe_01.iloc[0:3,0:] #Linha, coluna"
   ]
  },
  {
   "cell_type": "code",
   "execution_count": null,
   "id": "5eb44d36",
   "metadata": {},
   "outputs": [],
   "source": [
    "#Verificando as condições do DataFrame\n",
    "print(Dataframe_01)\n",
    "Dataframe_01>0"
   ]
  },
  {
   "cell_type": "code",
   "execution_count": null,
   "id": "c7308a73",
   "metadata": {},
   "outputs": [],
   "source": [
    "#Criando filtro no Dataframe\n",
    "Filtro=Dataframe_01['C']>0 #Armazena em filtro a resposta da verificação\n",
    "Dataframe_02=Dataframe_01[Filtro] #Criando um dataframe\n",
    "Dataframe_02['A']"
   ]
  },
  {
   "cell_type": "code",
   "execution_count": null,
   "id": "8bfffeba",
   "metadata": {},
   "outputs": [],
   "source": [
    "Filtro"
   ]
  },
  {
   "cell_type": "code",
   "execution_count": null,
   "id": "e40d6cfd",
   "metadata": {},
   "outputs": [],
   "source": [
    "#Criando um filtro utilizando a condição &\n",
    "Dataframe_01[(Dataframe_01['B']>5) & (Dataframe_01['C']>2)]"
   ]
  },
  {
   "cell_type": "code",
   "execution_count": null,
   "id": "ee115d98",
   "metadata": {},
   "outputs": [],
   "source": [
    "#Criando um filtro utilizando a condição OR\n",
    "Dataframe_01[(Dataframe_01['B']>5) | (Dataframe_01['C']>2)]"
   ]
  },
  {
   "cell_type": "code",
   "execution_count": 37,
   "id": "bd196855",
   "metadata": {},
   "outputs": [
    {
     "data": {
      "text/html": [
       "<div>\n",
       "<style scoped>\n",
       "    .dataframe tbody tr th:only-of-type {\n",
       "        vertical-align: middle;\n",
       "    }\n",
       "\n",
       "    .dataframe tbody tr th {\n",
       "        vertical-align: top;\n",
       "    }\n",
       "\n",
       "    .dataframe thead th {\n",
       "        text-align: right;\n",
       "    }\n",
       "</style>\n",
       "<table border=\"1\" class=\"dataframe\">\n",
       "  <thead>\n",
       "    <tr style=\"text-align: right;\">\n",
       "      <th></th>\n",
       "      <th>index</th>\n",
       "      <th>A</th>\n",
       "      <th>B</th>\n",
       "      <th>C</th>\n",
       "    </tr>\n",
       "  </thead>\n",
       "  <tbody>\n",
       "    <tr>\n",
       "      <th>0</th>\n",
       "      <td>1ª Linha</td>\n",
       "      <td>1</td>\n",
       "      <td>-3</td>\n",
       "      <td>0</td>\n",
       "    </tr>\n",
       "    <tr>\n",
       "      <th>1</th>\n",
       "      <td>2ª Linha</td>\n",
       "      <td>2</td>\n",
       "      <td>-2</td>\n",
       "      <td>10</td>\n",
       "    </tr>\n",
       "    <tr>\n",
       "      <th>2</th>\n",
       "      <td>3ª Linha</td>\n",
       "      <td>3</td>\n",
       "      <td>-1</td>\n",
       "      <td>20</td>\n",
       "    </tr>\n",
       "  </tbody>\n",
       "</table>\n",
       "</div>"
      ],
      "text/plain": [
       "      index  A  B   C\n",
       "0  1ª Linha  1 -3   0\n",
       "1  2ª Linha  2 -2  10\n",
       "2  3ª Linha  3 -1  20"
      ]
     },
     "execution_count": 37,
     "metadata": {},
     "output_type": "execute_result"
    }
   ],
   "source": [
    "# Resetando o index do Dataframe\n",
    "Dataframe_01.reset_index()"
   ]
  },
  {
   "cell_type": "code",
   "execution_count": 38,
   "id": "ca15186c",
   "metadata": {},
   "outputs": [],
   "source": [
    "# Resetando o index do Dataframe\n",
    "Dataframe_01.reset_index(inplace=True)"
   ]
  },
  {
   "cell_type": "code",
   "execution_count": null,
   "id": "0dc287dd",
   "metadata": {},
   "outputs": [],
   "source": [
    "Dataframe_01.drop('index', axis=1,inplace=True) #exclui coluna index"
   ]
  }
 ],
 "metadata": {
  "kernelspec": {
   "display_name": "Python 3",
   "language": "python",
   "name": "python3"
  },
  "language_info": {
   "codemirror_mode": {
    "name": "ipython",
    "version": 3
   },
   "file_extension": ".py",
   "mimetype": "text/x-python",
   "name": "python",
   "nbconvert_exporter": "python",
   "pygments_lexer": "ipython3",
   "version": "3.13.1"
  }
 },
 "nbformat": 4,
 "nbformat_minor": 5
}
